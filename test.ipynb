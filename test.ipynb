{
 "cells": [
  {
   "cell_type": "code",
   "execution_count": 1,
   "id": "244a5eeb",
   "metadata": {},
   "outputs": [],
   "source": [
    "import sys\n",
    "import os\n",
    "import time\n",
    "import importlib\n",
    "import argparse\n",
    "\n",
    "import numpy as np\n",
    "\n",
    "import torch\n",
    "from torch import nn, optim\n",
    "\n",
    "from data import MonoTextData\n",
    "from modules import VAE\n",
    "from modules import LSTMEncoder, LSTMDecoder\n",
    "from logger import Logger"
   ]
  },
  {
   "cell_type": "code",
   "execution_count": 2,
   "id": "7efea8a2",
   "metadata": {},
   "outputs": [],
   "source": [
    "parser = argparse.ArgumentParser(description='VAE mode collapse study')\n",
    "\n",
    "# model hyperparameters\n",
    "parser.add_argument('--dataset', type=str,default='dataset', help='dataset to use')\n",
    "\n",
    "# optimization parameters\n",
    "parser.add_argument('--momentum', type=float, default=0, help='sgd momentum')\n",
    "parser.add_argument('--nsamples', type=int, default=1, help='number of samples for training')\n",
    "parser.add_argument('--iw_nsamples', type=int, default=500,\n",
    "                     help='number of samples to compute importance weighted estimate')\n",
    "\n",
    "# select mode\n",
    "parser.add_argument('--eval', action='store_true', default=False, help='compute iw nll')\n",
    "parser.add_argument('--load_path', type=str, default='')\n",
    "\n",
    "\n",
    "# decoding\n",
    "parser.add_argument('--decode_from', type=str, default=\"\", help=\"pretrained model path\")\n",
    "parser.add_argument('--decoding_strategy', type=str, choices=[\"greedy\", \"beam\", \"sample\"], default=\"greedy\")\n",
    "parser.add_argument('--decode_input', type=str, default=\"\", help=\"input text file to perform reconstruction\")\n",
    "\n",
    "\n",
    "# annealing paramters\n",
    "parser.add_argument('--warm_up', type=int, default=10, help=\"number of annealing epochs\")\n",
    "parser.add_argument('--kl_start', type=float, default=1.0, help=\"starting KL weight\")\n",
    "\n",
    "# inference parameters\n",
    "parser.add_argument('--aggressive', type=int, default=0,\n",
    "                     help='apply aggressive training when nonzero, reduce to vanilla VAE when aggressive is 0')\n",
    "# others\n",
    "parser.add_argument('--seed', type=int, default=783435, metavar='S', help='random seed')\n",
    "\n",
    "# these are for slurm purpose to save model\n",
    "parser.add_argument('--jobid', type=int, default=0, help='slurm job id')\n",
    "parser.add_argument('--taskid', type=int, default=0, help='slurm task id')\n",
    "\n",
    "\n",
    "args = parser.parse_args([])"
   ]
  },
  {
   "cell_type": "code",
   "execution_count": 3,
   "id": "da709191",
   "metadata": {},
   "outputs": [
    {
     "data": {
      "text/plain": [
       "Namespace(aggressive=0, dataset='dataset', decode_from='', decode_input='', decoding_strategy='greedy', eval=False, iw_nsamples=500, jobid=0, kl_start=1.0, load_path='', momentum=0, nsamples=1, seed=783435, taskid=0, warm_up=10)"
      ]
     },
     "execution_count": 3,
     "metadata": {},
     "output_type": "execute_result"
    }
   ],
   "source": [
    "args"
   ]
  },
  {
   "cell_type": "code",
   "execution_count": 4,
   "id": "39cba56e",
   "metadata": {},
   "outputs": [
    {
     "name": "stdout",
     "output_type": "stream",
     "text": [
      "save path models/dataset\\dataset_aggressive0_kls1.00_warm10_0_0_783435.pt\n",
      "log path logs/dataset\\dataset_aggressive0_kls1.00_warm10_0_0_783435.log\n"
     ]
    }
   ],
   "source": [
    "\n",
    "args.cuda = torch.cuda.is_available()\n",
    "\n",
    "save_dir = \"models/%s\" % args.dataset\n",
    "log_dir = \"logs/%s\" % args.dataset\n",
    "\n",
    "if not os.path.exists(save_dir):\n",
    "    os.makedirs(save_dir)\n",
    "\n",
    "if not os.path.exists(log_dir):\n",
    "    os.makedirs(log_dir)\n",
    "\n",
    "seed_set = [783435, 101, 202, 303, 404, 505, 606, 707, 808, 909]\n",
    "args.seed = seed_set[args.taskid]\n",
    "\n",
    "id_ = \"%s_aggressive%d_kls%.2f_warm%d_%d_%d_%d\" % \\\n",
    "        (args.dataset, args.aggressive, args.kl_start,\n",
    "         args.warm_up, args.jobid, args.taskid, args.seed)\n",
    "\n",
    "save_path = os.path.join(save_dir, id_ + '.pt')\n",
    "\n",
    "args.save_path = save_path\n",
    "print(\"save path\", args.save_path)\n",
    "\n",
    "args.log_path = os.path.join(log_dir, id_ + \".log\")\n",
    "print(\"log path\", args.log_path)\n",
    "\n",
    "#     # load config file into args\n",
    "#     config_file = \"config.config_%s\" % args.dataset\n",
    "#     params = importlib.import_module(config_file).params\n",
    "#     args = argparse.Namespace(**vars(args), **params)\n",
    "\n",
    "#     if 'label' in params:\n",
    "#         args.label = params['label']\n",
    "#     else:\n",
    "#         args.label = False\n",
    "\n",
    "np.random.seed(args.seed)\n",
    "torch.manual_seed(args.seed)\n",
    "if args.cuda:\n",
    "    torch.cuda.manual_seed(args.seed)\n",
    "    torch.backends.cudnn.deterministic = True\n",
    "\n"
   ]
  },
  {
   "cell_type": "code",
   "execution_count": 5,
   "id": "8f0f8261",
   "metadata": {},
   "outputs": [],
   "source": [
    "args.train_data =\"datasets/yahoo_data/yahoo.train.txt\"\n",
    "train_data = MonoTextData(args.train_data)"
   ]
  },
  {
   "cell_type": "code",
   "execution_count": 8,
   "id": "20cafd2b",
   "metadata": {},
   "outputs": [
    {
     "data": {
      "text/plain": [
       "<data.text_data.VocabEntry at 0x23b550103d0>"
      ]
     },
     "execution_count": 8,
     "metadata": {},
     "output_type": "execute_result"
    }
   ],
   "source": [
    "train_data.vocab"
   ]
  },
  {
   "cell_type": "code",
   "execution_count": 14,
   "id": "1bb8bee7",
   "metadata": {},
   "outputs": [
    {
     "name": "stdout",
     "output_type": "stream",
     "text": [
      "['\"', 'The', 'thickness', 'of', 'the', 'dielectric', 'material', 'of', 'an', 'integrated', 'circuit', 'on', 'top', 'of', 'which', 'is', 'provided', 'a', 'semiconductor', 'layer,', 'is', 'selected', 'to', 'be', 'an', 'integer', 'multiple', 'of', 'one-half', 'the', 'wavelength', 'of', 'the', 'laser', 'light', 'in', 'the', 'dielectric', 'material', 'in', 'order', 'to', 'make', 'the', 'dielectric', 'material', 'layer', 'invisible', 'to', 'the', 'laser-trimming', 'light.', '\"']\n",
      "['Individually', 'produced', 'cams', 'and', 'journals', 'are', 'fastened', 'to', 'a', 'hollow', 'tube', 'to', 'form', 'a', 'camshaft', 'by', 'outwordly', 'deforming', 'the', 'tube', 'with', 'a', 'lost', 'mandrel', 'which', 'is', 'left', 'in', 'the', 'tube', 'to', 'form', 'a', 'seal.']\n",
      "['\"', 'Corrosion', 'inhibiting', 'calcium-containing', 'amorphous', 'precipitated', 'silica', 'is', 'described.', 'The', 'silica', 'is', 'prepared', 'by', 'admixing', 'simultaneously', 'in', 'a', 'reactor', 'aqueous', 'alkali', 'metal', 'silicate,', 'e.g.,', 'sodium', 'silicate,', 'acidifying', 'agent,', 'e.g.,', 'hydrochloric', 'acid,', 'and', 'a', 'water-soluble', 'source', 'of', 'calcium,', 'e.g.,', 'calcium', 'chloride.', 'The', 'product', 'contains', 'from', '6', 'to', '9', 'weight', 'percent', 'calcium', '(as', 'CaO).', 'The', 'silica', 'product', 'may', 'be', 'incorporated', 'into', 'a', 'coating', 'composition', 'used', 'for', 'corrodible', 'metallic', 'surfaces.', '\"']\n"
     ]
    }
   ],
   "source": [
    "i=0\n",
    "# fname=\"datasets/yahoo_data/yahoo.train.txt\"\n",
    "fname=\"../../Data/train.txt\"\n",
    "with open(fname,encoding='UTF-8') as fin:\n",
    "    \n",
    "    for line in fin:\n",
    "        if i>2:\n",
    "            break\n",
    "        split_line = line.split()\n",
    "        print(split_line)\n",
    "        \n",
    "        i+=1"
   ]
  },
  {
   "cell_type": "code",
   "execution_count": null,
   "id": "e360d61b",
   "metadata": {},
   "outputs": [],
   "source": []
  }
 ],
 "metadata": {
  "kernelspec": {
   "display_name": "Python [conda env:root] *",
   "language": "python",
   "name": "conda-root-py"
  },
  "language_info": {
   "codemirror_mode": {
    "name": "ipython",
    "version": 3
   },
   "file_extension": ".py",
   "mimetype": "text/x-python",
   "name": "python",
   "nbconvert_exporter": "python",
   "pygments_lexer": "ipython3",
   "version": "3.8.8"
  }
 },
 "nbformat": 4,
 "nbformat_minor": 5
}
